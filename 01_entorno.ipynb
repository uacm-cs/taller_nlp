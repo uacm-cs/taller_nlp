{
 "cells": [
  {
   "cell_type": "markdown",
   "metadata": {
    "deletable": true,
    "editable": true,
    "nbpresent": {
     "id": "d8507350-a78e-4543-bac8-b00143a99bb4"
    },
    "slideshow": {
     "slide_type": "slide"
    }
   },
   "source": [
    "\n",
    "# <span style=\"color:white\"> Instalación del entorno de desarrollo</span>"
   ]
  },
  {
   "cell_type": "markdown",
   "metadata": {
    "deletable": true,
    "editable": true,
    "slideshow": {
     "slide_type": "slide"
    }
   },
   "source": [
    "# Instalando Anaconda\n",
    "\n",
    "https://www.anaconda.com/\n",
    "\n",
    "\n",
    "<img src=\"figs/fig_anaconda.png\" width=\"300\">"
   ]
  },
  {
   "cell_type": "markdown",
   "metadata": {
    "deletable": true,
    "editable": true,
    "slideshow": {
     "slide_type": "slide"
    }
   },
   "source": [
    "\n",
    "#  Instalando Visual Studio Code\n",
    "\n",
    "https://code.visualstudio.com\n",
    "\n",
    "<img src=\"figs/fig_vscode.png\" width=\"300\">"
   ]
  },
  {
   "cell_type": "markdown",
   "metadata": {},
   "source": [
    "### Creación de ambiente virtual en conda\n",
    "\n",
    "1. En la terminal colocar  los siguientes comandos para crear el ambiente \"taller_nlp\" con la instalación mínima de  Python\n",
    "\n",
    "- En el caso de Windows, usar la terminal \"Anaconda Prompt\" ubicada en la carpeta de la instalación de Anaconda\n",
    "\n",
    "\n",
    "```bash\n",
    "conda create -n taller_nlp python\n",
    "```"
   ]
  },
  {
   "cell_type": "markdown",
   "metadata": {},
   "source": [
    "### Activar el ambiente virtual\n",
    "\n",
    "1. En la terminal, colocar  el siguiente comando para activar el ambiente \"taller_nlp\" creado. En este, podemos instalar los paquetes sin que haya conflicto con otras aplicaciones durante el desarrollo del proyecto.\n",
    "\n",
    "- En el caso de Windows, usar la terminal \"Anaconda Prompt\" ubicada en la carpeta de la instalación de Anaconda\n",
    "\n",
    "\n",
    "```bash\n",
    "conda activate taller_nlp\n",
    "```"
   ]
  },
  {
   "cell_type": "markdown",
   "metadata": {
    "deletable": true,
    "editable": true
   },
   "source": [
    "### <span style=\"color:#0485CF\"> Creación de notebook con VSCode </span> \n",
    "\n",
    "1. Abrir una ventana de VSCode\n",
    "\n",
    "2. Crear un archivo con la extensión .ipynb, por ejemplo, \"taller.ipynb\""
   ]
  },
  {
   "cell_type": "markdown",
   "metadata": {},
   "source": [
    "### <span style=\"color:#0485CF\"> Ejecución de comandos desde el notebook</span> \n",
    "1. Verificar la versión de Python instalada con el siguiente comando.\n",
    "\n",
    "   - En VSCode seleccionar (el kernel) el ambiente creado \"taller_nlp\", en este ambiente se instalarán los paquetes necesarios para el taller."
   ]
  },
  {
   "cell_type": "code",
   "execution_count": null,
   "metadata": {},
   "outputs": [],
   "source": [
    "!python --version"
   ]
  },
  {
   "cell_type": "markdown",
   "metadata": {},
   "source": [
    "# Instalación de paquetes \n",
    "- Instalar los siguiente paquetes, desde la terminal o el notebook\n",
    "\n",
    "### Matplotlib - Graficación \n",
    "\n",
    "```bash\n",
    "pip install matplotlib\n",
    "```\n",
    "\n",
    "### Numpy - Paquete para cómputo científico \n",
    "\n",
    "```bash\n",
    "pip install numpy\n",
    "```\n",
    "\n",
    "\n",
    "### NLTK - Paquete para procesamiento de lenguaje natural: Natural Language Tool Kit\n",
    "```bash\n",
    "pip install nltk\n",
    "```\n",
    "\n",
    "### spaCY - Paquete para procesamiento de lenguaje natural\n",
    "```bash\n",
    "pip install setuptools wheel\n",
    "pip install spacy==3.7.6\n",
    "```\n",
    "\n",
    "### scikit-learn - Paquete de Machine Learning \n",
    "```bash\n",
    "pip install scikit-learn\n",
    "```\n",
    "\n",
    "### Pandas - Paquete para manipulación de datos y análisis\n",
    "```bash\n",
    "pip install pandas\n",
    "```\n",
    "\n",
    "### Flask - Framework para desarrollo de aplicaciones web\n",
    "```bash\n",
    "pip install flask\n",
    "```\n",
    "\n",
    "\n"
   ]
  }
 ],
 "metadata": {
  "anaconda-cloud": {},
  "celltoolbar": "Slideshow",
  "kernelspec": {
   "display_name": "Python 3",
   "language": "python",
   "name": "python3"
  },
  "language_info": {
   "codemirror_mode": {
    "name": "ipython",
    "version": 3
   },
   "file_extension": ".py",
   "mimetype": "text/x-python",
   "name": "python",
   "nbconvert_exporter": "python",
   "pygments_lexer": "ipython3",
   "version": "3.12.4"
  },
  "nbpresent": {
   "slides": {
    "0337aae5-c511-4bb9-83f9-0466220fbd18": {
     "id": "0337aae5-c511-4bb9-83f9-0466220fbd18",
     "prev": "38323320-2bee-4df8-b41f-cd9f79dc6fa9",
     "regions": {
      "2ab0e3e2-5411-40b4-a160-1e9ef9acb5e4": {
       "attrs": {
        "height": 0.8,
        "width": 0.8,
        "x": 0.1,
        "y": 0.1
       },
       "content": {
        "cell": "98cb7717-7f1b-47be-9960-5380e1f1b22e",
        "part": "whole"
       },
       "id": "2ab0e3e2-5411-40b4-a160-1e9ef9acb5e4"
      }
     }
    },
    "04151d4f-b73a-41b3-afa8-eeede2eb18e2": {
     "id": "04151d4f-b73a-41b3-afa8-eeede2eb18e2",
     "prev": "73690e16-844c-4f92-abda-0aaeb54032df",
     "regions": {
      "4687dc78-96b4-432f-8a62-78ad041859b1": {
       "attrs": {
        "height": 0.8,
        "width": 0.8,
        "x": 0.1,
        "y": 0.1
       },
       "content": {
        "cell": "16beffe3-067b-4edb-adab-6b4674fc6cc9",
        "part": "whole"
       },
       "id": "4687dc78-96b4-432f-8a62-78ad041859b1"
      }
     }
    },
    "09556f10-276c-4487-afdc-b55df966500c": {
     "id": "09556f10-276c-4487-afdc-b55df966500c",
     "prev": "0a34ab85-5e8d-49a0-adaa-f579c3e3a787",
     "regions": {
      "4bc19c58-60ee-4ae6-b604-4a3d0e25a918": {
       "attrs": {
        "height": 0.8,
        "width": 0.8,
        "x": 0.1,
        "y": 0.1
       },
       "content": {
        "cell": "f7281cc9-9819-4998-bc65-a6a016cc7de2",
        "part": "whole"
       },
       "id": "4bc19c58-60ee-4ae6-b604-4a3d0e25a918"
      }
     }
    },
    "0a3315f6-0de6-4962-aa20-4aad6bafeaf0": {
     "id": "0a3315f6-0de6-4962-aa20-4aad6bafeaf0",
     "prev": "a9ccf56f-43c3-40dc-a4e2-46b99f96a209",
     "regions": {
      "d3d38b15-934d-4380-b5f1-9a51600c9a38": {
       "attrs": {
        "height": 0.8,
        "width": 0.8,
        "x": 0.1,
        "y": 0.1
       },
       "content": {
        "cell": "cf63423c-36e9-43e2-88f8-0946ef746646",
        "part": "whole"
       },
       "id": "d3d38b15-934d-4380-b5f1-9a51600c9a38"
      }
     }
    },
    "0a34ab85-5e8d-49a0-adaa-f579c3e3a787": {
     "id": "0a34ab85-5e8d-49a0-adaa-f579c3e3a787",
     "prev": "74670b88-074e-4d88-b286-568512fe3601",
     "regions": {
      "3682ad08-603d-4368-8f41-162850f7a1a9": {
       "attrs": {
        "height": 0.8,
        "width": 0.8,
        "x": 0.1,
        "y": 0.1
       },
       "content": {
        "cell": "12e8a120-bb9c-4e9f-8f85-860a30fb82dd",
        "part": "whole"
       },
       "id": "3682ad08-603d-4368-8f41-162850f7a1a9"
      }
     }
    },
    "0ec05c9f-4db4-4e22-8fb9-f55f1d4b43d2": {
     "id": "0ec05c9f-4db4-4e22-8fb9-f55f1d4b43d2",
     "prev": "2c449fc2-8745-4c2f-b2c3-ebd05aed15f6",
     "regions": {
      "4f10e22b-011a-40da-97f7-0eeaede6439c": {
       "attrs": {
        "height": 0.8,
        "width": 0.8,
        "x": 0.1,
        "y": 0.1
       },
       "content": {
        "cell": "769f00fc-4dd6-44c1-a573-34e6536ce640",
        "part": "whole"
       },
       "id": "4f10e22b-011a-40da-97f7-0eeaede6439c"
      }
     }
    },
    "102f7f8e-618b-4336-a99b-15f0a9dce7bb": {
     "id": "102f7f8e-618b-4336-a99b-15f0a9dce7bb",
     "prev": "610d5d05-1e82-45fb-807d-a703b7892dd2",
     "regions": {
      "4da3614a-c08b-4a37-a9c0-bc924ab3a77e": {
       "attrs": {
        "height": 0.8,
        "width": 0.8,
        "x": 0.1,
        "y": 0.1
       },
       "content": {
        "cell": "045530eb-3802-4001-a249-04189ab303ea",
        "part": "whole"
       },
       "id": "4da3614a-c08b-4a37-a9c0-bc924ab3a77e"
      }
     }
    },
    "14b07047-5915-4cfe-bc0c-6c757a10814a": {
     "id": "14b07047-5915-4cfe-bc0c-6c757a10814a",
     "prev": "e1db2851-565a-4bfe-8153-501cafa64620",
     "regions": {
      "daa04af5-6694-4a23-9164-05548cb15d26": {
       "attrs": {
        "height": 0.8,
        "width": 0.8,
        "x": 0.1,
        "y": 0.1
       },
       "content": {
        "cell": "b4543a60-5959-40bd-907f-b797902ec050",
        "part": "whole"
       },
       "id": "daa04af5-6694-4a23-9164-05548cb15d26"
      }
     }
    },
    "1593ee95-5288-4810-94cc-9141832023a2": {
     "id": "1593ee95-5288-4810-94cc-9141832023a2",
     "prev": "a82c824f-8655-4a70-ac10-e90a054cda92",
     "regions": {
      "62628079-04b0-46a6-8146-903e0df4fab2": {
       "attrs": {
        "height": 0.8,
        "width": 0.8,
        "x": 0.1,
        "y": 0.1
       },
       "content": {
        "cell": "b57f075b-e6a7-4976-8523-edfa81dfcb48",
        "part": "whole"
       },
       "id": "62628079-04b0-46a6-8146-903e0df4fab2"
      }
     }
    },
    "15bdda74-6eb5-4899-90d5-42b701cea01d": {
     "id": "15bdda74-6eb5-4899-90d5-42b701cea01d",
     "prev": "9d0f769e-bd00-4046-98fa-ab0cc9571ccd",
     "regions": {
      "5370f737-5c61-4504-8037-baa726dbf1ac": {
       "attrs": {
        "height": 0.8,
        "width": 0.8,
        "x": 0.1,
        "y": 0.1
       },
       "content": {
        "cell": "99dc5db2-0624-4f93-abe3-2f369e6fde42",
        "part": "whole"
       },
       "id": "5370f737-5c61-4504-8037-baa726dbf1ac"
      }
     }
    },
    "15c500e0-780a-4e38-90ba-0b4df22fff00": {
     "id": "15c500e0-780a-4e38-90ba-0b4df22fff00",
     "prev": "8666738e-2be3-4b5d-b3b0-53da0b871fc2",
     "regions": {
      "2083f32f-738a-4907-8650-31d15a1c9065": {
       "attrs": {
        "height": 0.8,
        "width": 0.8,
        "x": 0.1,
        "y": 0.1
       },
       "content": {
        "cell": "04a56fc7-4a42-4e67-ae83-2d9a62533f96",
        "part": "whole"
       },
       "id": "2083f32f-738a-4907-8650-31d15a1c9065"
      }
     }
    },
    "18faa3b8-f207-48de-8d7d-59aa1933ffa3": {
     "id": "18faa3b8-f207-48de-8d7d-59aa1933ffa3",
     "prev": "0337aae5-c511-4bb9-83f9-0466220fbd18",
     "regions": {
      "333c5e1f-0c6b-4417-91b0-6b933703ddd1": {
       "attrs": {
        "height": 0.8,
        "width": 0.8,
        "x": 0.1,
        "y": 0.1
       },
       "content": {
        "cell": "30bbbf50-38b8-40e6-8cc6-46b5417391b2",
        "part": "whole"
       },
       "id": "333c5e1f-0c6b-4417-91b0-6b933703ddd1"
      }
     }
    },
    "1a34be57-a149-4b70-9d42-b098a60cabbf": {
     "id": "1a34be57-a149-4b70-9d42-b098a60cabbf",
     "prev": "15bdda74-6eb5-4899-90d5-42b701cea01d",
     "regions": {
      "086a3a84-b0ae-43df-8717-98ff7a1688b4": {
       "attrs": {
        "height": 0.8,
        "width": 0.8,
        "x": 0.1,
        "y": 0.1
       },
       "content": {
        "cell": "ce0501e9-d048-4c15-85fb-010ecb775439",
        "part": "whole"
       },
       "id": "086a3a84-b0ae-43df-8717-98ff7a1688b4"
      }
     }
    },
    "1ecab144-c0a0-40df-a132-d2e8c8e4d7b0": {
     "id": "1ecab144-c0a0-40df-a132-d2e8c8e4d7b0",
     "prev": "09556f10-276c-4487-afdc-b55df966500c",
     "regions": {
      "f9c33b2f-0626-4fd5-89ec-bb0e00994cbc": {
       "attrs": {
        "height": 0.8,
        "width": 0.8,
        "x": 0.1,
        "y": 0.1
       },
       "content": {
        "cell": "9da7bcaf-fca9-4ce2-851c-6ed541131569",
        "part": "whole"
       },
       "id": "f9c33b2f-0626-4fd5-89ec-bb0e00994cbc"
      }
     }
    },
    "1f9b7bf8-308e-402d-bfdb-6638fe120c4c": {
     "id": "1f9b7bf8-308e-402d-bfdb-6638fe120c4c",
     "prev": "b26b07f2-639a-42ef-a307-127532b0a331",
     "regions": {
      "76a145c4-d5d9-4619-9f2f-42d043e68bdf": {
       "attrs": {
        "height": 0.8,
        "width": 0.8,
        "x": 0.1,
        "y": 0.1
       },
       "content": {
        "cell": "918ab356-6f41-4994-9bc3-fc4eca674040",
        "part": "whole"
       },
       "id": "76a145c4-d5d9-4619-9f2f-42d043e68bdf"
      }
     }
    },
    "21ce6bc5-4a29-49c4-90bb-3311c6b8035e": {
     "id": "21ce6bc5-4a29-49c4-90bb-3311c6b8035e",
     "prev": "89838d6c-0a5a-434a-9ddd-cd6ca1e48fc5",
     "regions": {
      "cf09260b-9f8f-4b67-8f7d-8d9734f2f803": {
       "attrs": {
        "height": 0.8,
        "width": 0.8,
        "x": 0.1,
        "y": 0.1
       },
       "content": {
        "cell": "00a2f744-011b-4604-9772-93598c556937",
        "part": "whole"
       },
       "id": "cf09260b-9f8f-4b67-8f7d-8d9734f2f803"
      }
     }
    },
    "2617868b-82fc-4cc8-b0f9-ede5cf30759d": {
     "id": "2617868b-82fc-4cc8-b0f9-ede5cf30759d",
     "prev": "4dbee523-120f-4bda-a7fa-62752bfbe6c0",
     "regions": {
      "26683268-e821-4361-acfe-dcd41572affa": {
       "attrs": {
        "height": 0.8,
        "width": 0.8,
        "x": 0.1,
        "y": 0.1
       },
       "content": {
        "cell": "8684f860-2d8c-4025-895e-d06fa4db0c47",
        "part": "whole"
       },
       "id": "26683268-e821-4361-acfe-dcd41572affa"
      }
     }
    },
    "28401faf-e345-4af4-b05e-d4514436ce9d": {
     "id": "28401faf-e345-4af4-b05e-d4514436ce9d",
     "prev": "6cdb10cd-afc2-40e1-8810-e2ba7e1c7991",
     "regions": {
      "d8b77564-9db4-4f84-b637-5b50a54274ce": {
       "attrs": {
        "height": 0.8,
        "width": 0.8,
        "x": 0.1,
        "y": 0.1
       },
       "content": {
        "cell": "5703838d-8461-4d35-9a39-498b3511fc10",
        "part": "whole"
       },
       "id": "d8b77564-9db4-4f84-b637-5b50a54274ce"
      }
     }
    },
    "2c449fc2-8745-4c2f-b2c3-ebd05aed15f6": {
     "id": "2c449fc2-8745-4c2f-b2c3-ebd05aed15f6",
     "prev": "441fddbb-559c-41b8-a722-dd11af9a5755",
     "regions": {
      "0d104777-df96-4dd7-83e7-1d33e9ca5fb5": {
       "attrs": {
        "height": 0.8,
        "width": 0.8,
        "x": 0.1,
        "y": 0.1
       },
       "content": {
        "cell": "4b35b525-2be2-4cb2-ab50-9eb6a189e659",
        "part": "whole"
       },
       "id": "0d104777-df96-4dd7-83e7-1d33e9ca5fb5"
      }
     }
    },
    "2c6d9a59-6a3e-4028-83f3-962211d8196d": {
     "id": "2c6d9a59-6a3e-4028-83f3-962211d8196d",
     "prev": "caac1d3f-e5d5-46ee-a11b-444a2bbb66ad",
     "regions": {
      "0ee86363-9a55-4a36-99d0-93d74939ec3b": {
       "attrs": {
        "height": 0.8,
        "width": 0.8,
        "x": 0.1,
        "y": 0.1
       },
       "content": {
        "cell": "8bdb043b-f50c-4a3f-8a99-ebb816c1250a",
        "part": "whole"
       },
       "id": "0ee86363-9a55-4a36-99d0-93d74939ec3b"
      }
     }
    },
    "2e7113f9-8d81-44a1-8a7a-a33d803371fe": {
     "id": "2e7113f9-8d81-44a1-8a7a-a33d803371fe",
     "prev": "458b5093-a536-441a-ac0a-2968b32bbcf4",
     "regions": {
      "77dc9a62-6741-4dc0-ad37-b8d1d14a8404": {
       "attrs": {
        "height": 0.8,
        "width": 0.8,
        "x": 0.1,
        "y": 0.1
       },
       "content": {
        "cell": "ff3033f5-3237-4f68-8dd1-8c4a238725f1",
        "part": "whole"
       },
       "id": "77dc9a62-6741-4dc0-ad37-b8d1d14a8404"
      }
     }
    },
    "30cced21-d92c-40f8-a738-5d9ee48abc72": {
     "id": "30cced21-d92c-40f8-a738-5d9ee48abc72",
     "prev": "c32204b6-01b9-4119-8b7b-7f9791ea763d",
     "regions": {
      "0533710e-930f-40c3-b2d8-d8143c897924": {
       "attrs": {
        "height": 0.8,
        "width": 0.8,
        "x": 0.1,
        "y": 0.1
       },
       "content": {
        "cell": "8e77fa6e-c84a-4dca-b3b1-693cc3288784",
        "part": "whole"
       },
       "id": "0533710e-930f-40c3-b2d8-d8143c897924"
      }
     }
    },
    "30f093f2-36f3-4684-ac48-769daf3f3f15": {
     "id": "30f093f2-36f3-4684-ac48-769daf3f3f15",
     "prev": "9de41647-5d51-4e1d-b90d-83204759edbe",
     "regions": {
      "bafef1c8-94be-4f5f-9cb5-240b439a1429": {
       "attrs": {
        "height": 0.8,
        "width": 0.8,
        "x": 0.1,
        "y": 0.1
       },
       "content": {
        "cell": "1104bbc8-45b7-4880-ae40-719c657f4957",
        "part": "whole"
       },
       "id": "bafef1c8-94be-4f5f-9cb5-240b439a1429"
      }
     }
    },
    "3146a53a-096a-400b-81b3-d43693b8118f": {
     "id": "3146a53a-096a-400b-81b3-d43693b8118f",
     "prev": "a5452c0e-68df-4ccb-8ef0-de49deba4596",
     "regions": {
      "e2569341-854e-4290-984c-8f215176998d": {
       "attrs": {
        "height": 0.8,
        "width": 0.8,
        "x": 0.1,
        "y": 0.1
       },
       "content": {
        "cell": "33325f5c-c0bd-4629-8cf7-24065b7ea3d7",
        "part": "whole"
       },
       "id": "e2569341-854e-4290-984c-8f215176998d"
      }
     }
    },
    "36a920d5-1186-4b93-8108-0d856e4b7477": {
     "id": "36a920d5-1186-4b93-8108-0d856e4b7477",
     "prev": "5eae8a69-70df-4978-9b59-8b38ff36fec9",
     "regions": {
      "7fb6ea6b-0b8e-49f3-931b-04c2798852d9": {
       "attrs": {
        "height": 0.8,
        "width": 0.8,
        "x": 0.1,
        "y": 0.1
       },
       "content": {
        "cell": "18bd2b97-6b6f-42be-9281-6b3c21063304",
        "part": "whole"
       },
       "id": "7fb6ea6b-0b8e-49f3-931b-04c2798852d9"
      }
     }
    },
    "38323320-2bee-4df8-b41f-cd9f79dc6fa9": {
     "id": "38323320-2bee-4df8-b41f-cd9f79dc6fa9",
     "prev": "a8ebe69e-4cab-43db-add4-a0ef3ad3e6ab",
     "regions": {
      "aaf747b9-f1e9-460d-8603-c50dc756d3d2": {
       "attrs": {
        "height": 0.8,
        "width": 0.8,
        "x": 0.1,
        "y": 0.1
       },
       "content": {
        "cell": "12515089-a9ae-4c79-bfc6-bf29e4cc3e09",
        "part": "whole"
       },
       "id": "aaf747b9-f1e9-460d-8603-c50dc756d3d2"
      }
     }
    },
    "43fd934e-daf8-48a9-972e-0178854ae2fb": {
     "id": "43fd934e-daf8-48a9-972e-0178854ae2fb",
     "prev": "102f7f8e-618b-4336-a99b-15f0a9dce7bb",
     "regions": {
      "1fb3a280-9621-4f8e-a8f0-a416c3000d72": {
       "attrs": {
        "height": 0.8,
        "width": 0.8,
        "x": 0.1,
        "y": 0.1
       },
       "content": {
        "cell": "3271cd7f-7bcd-414c-8643-9d45ce36dedd",
        "part": "whole"
       },
       "id": "1fb3a280-9621-4f8e-a8f0-a416c3000d72"
      }
     }
    },
    "441fddbb-559c-41b8-a722-dd11af9a5755": {
     "id": "441fddbb-559c-41b8-a722-dd11af9a5755",
     "prev": "dc0878f4-0282-457d-bee9-2fdf6b0f5842",
     "regions": {
      "b7d8b258-018d-4841-9569-0f3e009eb73e": {
       "attrs": {
        "height": 0.8,
        "width": 0.8,
        "x": 0.1,
        "y": 0.1
       },
       "content": {
        "cell": "6b6793be-51ca-464c-b92c-9c7e6ba2a15b",
        "part": "whole"
       },
       "id": "b7d8b258-018d-4841-9569-0f3e009eb73e"
      }
     }
    },
    "458b5093-a536-441a-ac0a-2968b32bbcf4": {
     "id": "458b5093-a536-441a-ac0a-2968b32bbcf4",
     "prev": "e5899c55-80a9-40de-8097-38ff3c5e7d7f",
     "regions": {
      "1f6532c7-ee80-4534-a63e-cbe9ae5b87bd": {
       "attrs": {
        "height": 0.8,
        "width": 0.8,
        "x": 0.1,
        "y": 0.1
       },
       "content": {
        "cell": "e27f94a8-43af-45ca-a0fd-76815a411cef",
        "part": "whole"
       },
       "id": "1f6532c7-ee80-4534-a63e-cbe9ae5b87bd"
      }
     }
    },
    "499c75be-d776-4839-984d-27382e70c396": {
     "id": "499c75be-d776-4839-984d-27382e70c396",
     "prev": "82e1f8f3-0957-46aa-813f-2057c8c494dc",
     "regions": {
      "65a6a121-2d53-4fff-9139-b8cf9ff94da3": {
       "attrs": {
        "height": 0.8,
        "width": 0.8,
        "x": 0.1,
        "y": 0.1
       },
       "content": {
        "cell": "587f5a08-613a-4187-9e7c-7ea176a4b7fd",
        "part": "whole"
       },
       "id": "65a6a121-2d53-4fff-9139-b8cf9ff94da3"
      }
     }
    },
    "49e014af-be42-4691-8036-656404bc8c75": {
     "id": "49e014af-be42-4691-8036-656404bc8c75",
     "prev": "7676dbc7-791b-4e4f-8e3e-2e9cba88bc2c",
     "regions": {
      "751e6563-370b-45af-9475-73b9caa6244d": {
       "attrs": {
        "height": 0.8,
        "width": 0.8,
        "x": 0.1,
        "y": 0.1
       },
       "content": {
        "cell": "c4f937f1-35d5-461c-bbaf-6935c7fdc2b5",
        "part": "whole"
       },
       "id": "751e6563-370b-45af-9475-73b9caa6244d"
      }
     }
    },
    "4c5d7649-68bc-4b73-a663-c2076c82ec36": {
     "id": "4c5d7649-68bc-4b73-a663-c2076c82ec36",
     "prev": "30f093f2-36f3-4684-ac48-769daf3f3f15",
     "regions": {
      "33f5ad49-f331-4815-9143-9e9b776fa0db": {
       "attrs": {
        "height": 0.8,
        "width": 0.8,
        "x": 0.1,
        "y": 0.1
       },
       "content": {
        "cell": "2588c318-f2d1-492b-adc1-52e0bebfb902",
        "part": "whole"
       },
       "id": "33f5ad49-f331-4815-9143-9e9b776fa0db"
      }
     }
    },
    "4dbee523-120f-4bda-a7fa-62752bfbe6c0": {
     "id": "4dbee523-120f-4bda-a7fa-62752bfbe6c0",
     "prev": "1593ee95-5288-4810-94cc-9141832023a2",
     "regions": {
      "29edf4cc-1997-4b43-8edc-3c7c27789345": {
       "attrs": {
        "height": 0.8,
        "width": 0.8,
        "x": 0.1,
        "y": 0.1
       },
       "content": {
        "cell": "7e80ee0c-263d-43e5-92ea-968761ac8525",
        "part": "whole"
       },
       "id": "29edf4cc-1997-4b43-8edc-3c7c27789345"
      }
     }
    },
    "4eaa7f5a-fb49-4797-959a-3ebd8b5822e4": {
     "id": "4eaa7f5a-fb49-4797-959a-3ebd8b5822e4",
     "prev": "21ce6bc5-4a29-49c4-90bb-3311c6b8035e",
     "regions": {
      "5790fe14-db42-49be-92b7-6422dd8df516": {
       "attrs": {
        "height": 0.8,
        "width": 0.8,
        "x": 0.1,
        "y": 0.1
       },
       "content": {
        "cell": "239d8679-a12f-4961-915e-07c4c2968b6d",
        "part": "whole"
       },
       "id": "5790fe14-db42-49be-92b7-6422dd8df516"
      }
     }
    },
    "570de9c7-8de5-46fb-988a-e9d03595d4cc": {
     "id": "570de9c7-8de5-46fb-988a-e9d03595d4cc",
     "prev": "736ccec0-cb2c-4833-aa80-552fc0296d44",
     "regions": {
      "5782512e-3312-40c6-aa16-4efcbf250569": {
       "attrs": {
        "height": 0.8,
        "width": 0.8,
        "x": 0.1,
        "y": 0.1
       },
       "content": {
        "cell": "7c7534f7-856f-41e8-9de3-b3dc3341401c",
        "part": "whole"
       },
       "id": "5782512e-3312-40c6-aa16-4efcbf250569"
      }
     }
    },
    "5aa95c0a-36ba-4b8a-b901-5904613c6845": {
     "id": "5aa95c0a-36ba-4b8a-b901-5904613c6845",
     "prev": "79d20488-4cad-4c7f-84ae-42b467409617",
     "regions": {
      "51e2c07d-6643-4b7a-bbcd-0fb47e2f103d": {
       "attrs": {
        "height": 0.8,
        "width": 0.8,
        "x": 0.1,
        "y": 0.1
       },
       "content": {
        "cell": "3c971b7f-8a75-4146-bb1e-59c400adf44c",
        "part": "whole"
       },
       "id": "51e2c07d-6643-4b7a-bbcd-0fb47e2f103d"
      }
     }
    },
    "5d710fde-5362-4ee0-8244-e1f0a298b094": {
     "id": "5d710fde-5362-4ee0-8244-e1f0a298b094",
     "prev": "aeb728be-5b61-4476-9652-872b3d049fd0",
     "regions": {
      "24480317-e734-48aa-8cc5-44dea4b036a8": {
       "attrs": {
        "height": 0.8,
        "width": 0.8,
        "x": 0.1,
        "y": 0.1
       },
       "content": {
        "cell": "8eb98a8d-371e-46a4-bd96-2255a0f24668",
        "part": "whole"
       },
       "id": "24480317-e734-48aa-8cc5-44dea4b036a8"
      }
     }
    },
    "5eae8a69-70df-4978-9b59-8b38ff36fec9": {
     "id": "5eae8a69-70df-4978-9b59-8b38ff36fec9",
     "prev": "1f9b7bf8-308e-402d-bfdb-6638fe120c4c",
     "regions": {
      "c498a173-593b-4ec2-96a4-80093aacab9a": {
       "attrs": {
        "height": 0.8,
        "width": 0.8,
        "x": 0.1,
        "y": 0.1
       },
       "content": {
        "cell": "58195eca-eb97-41a7-aee5-745262efc3be",
        "part": "whole"
       },
       "id": "c498a173-593b-4ec2-96a4-80093aacab9a"
      }
     }
    },
    "610d5d05-1e82-45fb-807d-a703b7892dd2": {
     "id": "610d5d05-1e82-45fb-807d-a703b7892dd2",
     "prev": "0a3315f6-0de6-4962-aa20-4aad6bafeaf0",
     "regions": {
      "9bba263d-2086-40d3-8a89-3d405bd591c2": {
       "attrs": {
        "height": 0.8,
        "width": 0.8,
        "x": 0.1,
        "y": 0.1
       },
       "content": {
        "cell": "87ea9854-e5b5-4d64-81b7-1c108b6e4ffc",
        "part": "whole"
       },
       "id": "9bba263d-2086-40d3-8a89-3d405bd591c2"
      }
     }
    },
    "64a4a6cf-5192-4f5d-9fe5-42e513c34f0c": {
     "id": "64a4a6cf-5192-4f5d-9fe5-42e513c34f0c",
     "prev": "bc786d42-a02f-457b-bdf4-4ce78b3d38e8",
     "regions": {
      "ce437133-e324-42a9-b525-15cb391b1c5f": {
       "attrs": {
        "height": 0.8,
        "width": 0.8,
        "x": 0.1,
        "y": 0.1
       },
       "content": {
        "cell": "3519e3c3-dea3-4d2a-b478-b66a2619a2a1",
        "part": "whole"
       },
       "id": "ce437133-e324-42a9-b525-15cb391b1c5f"
      }
     }
    },
    "67171314-ddb6-49ee-814c-5774a66d842e": {
     "id": "67171314-ddb6-49ee-814c-5774a66d842e",
     "prev": "bfb6645b-fd57-4576-886c-e273e1433d2a",
     "regions": {
      "a0c19f37-71c1-485c-bf07-57819caaef84": {
       "attrs": {
        "height": 0.8,
        "width": 0.8,
        "x": 0.1,
        "y": 0.1
       },
       "content": {
        "cell": "936f622a-caf1-4145-86b6-b84df6d09983",
        "part": "whole"
       },
       "id": "a0c19f37-71c1-485c-bf07-57819caaef84"
      }
     }
    },
    "673aea23-13d6-49a1-9962-9633fde8ec76": {
     "id": "673aea23-13d6-49a1-9962-9633fde8ec76",
     "prev": "97864da1-04c1-40ea-9baa-40c7befc0db4",
     "regions": {
      "6d9a7af3-c468-40b7-aeea-e67af4b33dff": {
       "attrs": {
        "height": 0.8,
        "width": 0.8,
        "x": 0.1,
        "y": 0.1
       },
       "content": {
        "cell": "804b7adb-7f3b-469c-ab84-5c0e68427521",
        "part": "whole"
       },
       "id": "6d9a7af3-c468-40b7-aeea-e67af4b33dff"
      }
     }
    },
    "6797ca64-9919-4cf5-b565-0fb93a323fd3": {
     "id": "6797ca64-9919-4cf5-b565-0fb93a323fd3",
     "prev": "a901b1e6-d714-492a-82fa-3e8a1930b258",
     "regions": {
      "d7c9a7e0-8242-41fc-825d-0e0bda711416": {
       "attrs": {
        "height": 0.8,
        "width": 0.8,
        "x": 0.1,
        "y": 0.1
       },
       "content": {
        "cell": "92ef12bc-b285-43ef-98e8-ee55b08ed5da",
        "part": "whole"
       },
       "id": "d7c9a7e0-8242-41fc-825d-0e0bda711416"
      }
     }
    },
    "6cdb10cd-afc2-40e1-8810-e2ba7e1c7991": {
     "id": "6cdb10cd-afc2-40e1-8810-e2ba7e1c7991",
     "prev": "14b07047-5915-4cfe-bc0c-6c757a10814a",
     "regions": {
      "a3d978b3-6b5c-418a-b066-954564423ece": {
       "attrs": {
        "height": 0.8,
        "width": 0.8,
        "x": 0.1,
        "y": 0.1
       },
       "content": {
        "cell": "bdcac214-4745-448e-bfd5-836e6812c251",
        "part": "whole"
       },
       "id": "a3d978b3-6b5c-418a-b066-954564423ece"
      }
     }
    },
    "6d129902-2549-4456-9564-89132482ce6b": {
     "id": "6d129902-2549-4456-9564-89132482ce6b",
     "prev": "4c5d7649-68bc-4b73-a663-c2076c82ec36",
     "regions": {
      "06c7c756-07f6-4caf-867a-bc0478084981": {
       "attrs": {
        "height": 0.8,
        "width": 0.8,
        "x": 0.1,
        "y": 0.1
       },
       "content": {
        "cell": "3bfa3bd1-89c9-4d00-a4b8-187a9479b717",
        "part": "whole"
       },
       "id": "06c7c756-07f6-4caf-867a-bc0478084981"
      }
     }
    },
    "6efbd647-6e47-4736-b351-756765069110": {
     "id": "6efbd647-6e47-4736-b351-756765069110",
     "prev": "dfe08f19-e5a2-4f5a-b355-409aa1aae0af",
     "regions": {
      "506e2579-e0c9-4f99-9212-4eacff539598": {
       "attrs": {
        "height": 0.8,
        "width": 0.8,
        "x": 0.1,
        "y": 0.1
       },
       "content": {
        "cell": "9f27da36-e0d5-4c10-87f1-95cea0766982",
        "part": "whole"
       },
       "id": "506e2579-e0c9-4f99-9212-4eacff539598"
      }
     }
    },
    "73690e16-844c-4f92-abda-0aaeb54032df": {
     "id": "73690e16-844c-4f92-abda-0aaeb54032df",
     "prev": "c5a2e819-a59f-423c-9203-91b08e955bbf",
     "regions": {
      "f6aa5bc0-3512-4276-85bc-a27848342e98": {
       "attrs": {
        "height": 0.8,
        "width": 0.8,
        "x": 0.1,
        "y": 0.1
       },
       "content": {
        "cell": "b9b7d22e-68ca-42a5-a8e6-f609927511c5",
        "part": "whole"
       },
       "id": "f6aa5bc0-3512-4276-85bc-a27848342e98"
      }
     }
    },
    "736ccec0-cb2c-4833-aa80-552fc0296d44": {
     "id": "736ccec0-cb2c-4833-aa80-552fc0296d44",
     "prev": "ec8892cc-b061-4156-a01b-206e16624fc0",
     "regions": {
      "fba982d8-16e2-4c04-b3a9-45b7573e2c88": {
       "attrs": {
        "height": 0.8,
        "width": 0.8,
        "x": 0.1,
        "y": 0.1
       },
       "content": {
        "cell": "840fc4b0-087b-4fe1-a02a-f3b373983144",
        "part": "whole"
       },
       "id": "fba982d8-16e2-4c04-b3a9-45b7573e2c88"
      }
     }
    },
    "74670b88-074e-4d88-b286-568512fe3601": {
     "id": "74670b88-074e-4d88-b286-568512fe3601",
     "prev": "c7b2aaab-8fcb-4f3e-b7c4-87e21371356f",
     "regions": {
      "b8c764b6-f4ae-41f5-9e8e-deec02e9fb69": {
       "attrs": {
        "height": 0.8,
        "width": 0.8,
        "x": 0.1,
        "y": 0.1
       },
       "content": {
        "cell": "421afb30-c421-417c-b03e-d96a3f0a4769",
        "part": "whole"
       },
       "id": "b8c764b6-f4ae-41f5-9e8e-deec02e9fb69"
      }
     }
    },
    "7676dbc7-791b-4e4f-8e3e-2e9cba88bc2c": {
     "id": "7676dbc7-791b-4e4f-8e3e-2e9cba88bc2c",
     "prev": "f6b26723-8301-4f53-9bee-ec65ec810ab8",
     "regions": {
      "6e5968e9-a7ad-4660-bd8a-1b5c6d8e2ee3": {
       "attrs": {
        "height": 0.8,
        "width": 0.8,
        "x": 0.1,
        "y": 0.1
       },
       "content": {
        "cell": "7583b492-7ea4-4496-aac1-02f796a90a45",
        "part": "whole"
       },
       "id": "6e5968e9-a7ad-4660-bd8a-1b5c6d8e2ee3"
      }
     }
    },
    "79d20488-4cad-4c7f-84ae-42b467409617": {
     "id": "79d20488-4cad-4c7f-84ae-42b467409617",
     "prev": "15c500e0-780a-4e38-90ba-0b4df22fff00",
     "regions": {
      "c5b7d9e0-8a6d-4f9b-853d-add626cf74c8": {
       "attrs": {
        "height": 0.8,
        "width": 0.8,
        "x": 0.1,
        "y": 0.1
       },
       "content": {
        "cell": "588e2366-6d32-4138-be9f-980b3e9b173c",
        "part": "whole"
       },
       "id": "c5b7d9e0-8a6d-4f9b-853d-add626cf74c8"
      }
     }
    },
    "7a1efcc6-6019-4ea6-a8d5-db2bce465751": {
     "id": "7a1efcc6-6019-4ea6-a8d5-db2bce465751",
     "prev": "0ec05c9f-4db4-4e22-8fb9-f55f1d4b43d2",
     "regions": {
      "56b693f2-1f28-4a1d-8441-2ff8bf4a78ec": {
       "attrs": {
        "height": 0.8,
        "width": 0.8,
        "x": 0.1,
        "y": 0.1
       },
       "content": {
        "cell": "96cbfff8-f377-419a-acab-44403c1fe808",
        "part": "whole"
       },
       "id": "56b693f2-1f28-4a1d-8441-2ff8bf4a78ec"
      }
     }
    },
    "7cb2252d-7d34-459d-97b8-debe36d0ea27": {
     "id": "7cb2252d-7d34-459d-97b8-debe36d0ea27",
     "prev": "b8cdf6b2-2730-44c8-ac2f-d401da0b8774",
     "regions": {
      "fe84c111-0e08-4d22-a5b0-6ffc65c294ad": {
       "attrs": {
        "height": 0.8,
        "width": 0.8,
        "x": 0.1,
        "y": 0.1
       },
       "content": {
        "cell": "6fd56e8c-5074-4436-b494-56cc2826b186",
        "part": "whole"
       },
       "id": "fe84c111-0e08-4d22-a5b0-6ffc65c294ad"
      }
     }
    },
    "82e1f8f3-0957-46aa-813f-2057c8c494dc": {
     "id": "82e1f8f3-0957-46aa-813f-2057c8c494dc",
     "prev": "6efbd647-6e47-4736-b351-756765069110",
     "regions": {
      "e81bf853-380c-4abb-a8ce-66393fd710c3": {
       "attrs": {
        "height": 0.8,
        "width": 0.8,
        "x": 0.1,
        "y": 0.1
       },
       "content": {
        "cell": "72f6674c-a12a-4864-9e1f-cae306b54421",
        "part": "whole"
       },
       "id": "e81bf853-380c-4abb-a8ce-66393fd710c3"
      }
     }
    },
    "8666738e-2be3-4b5d-b3b0-53da0b871fc2": {
     "id": "8666738e-2be3-4b5d-b3b0-53da0b871fc2",
     "prev": "dbf4d62d-2361-41eb-8bf4-23967be140c3",
     "regions": {
      "01c0de3f-c299-43ec-9ada-e0b98eb656a9": {
       "attrs": {
        "height": 0.8,
        "width": 0.8,
        "x": 0.1,
        "y": 0.1
       },
       "content": {
        "cell": "63094e76-61b8-470b-8c80-f7a911789b22",
        "part": "whole"
       },
       "id": "01c0de3f-c299-43ec-9ada-e0b98eb656a9"
      }
     }
    },
    "89838d6c-0a5a-434a-9ddd-cd6ca1e48fc5": {
     "id": "89838d6c-0a5a-434a-9ddd-cd6ca1e48fc5",
     "prev": "2c6d9a59-6a3e-4028-83f3-962211d8196d",
     "regions": {
      "635364f6-e221-426a-8277-29ab0a981a2a": {
       "attrs": {
        "height": 0.8,
        "width": 0.8,
        "x": 0.1,
        "y": 0.1
       },
       "content": {
        "cell": "6dee778e-8eff-48b9-95ce-54bb8d1b5e53",
        "part": "whole"
       },
       "id": "635364f6-e221-426a-8277-29ab0a981a2a"
      }
     }
    },
    "8a95d849-d9dc-465d-8c3b-23f88cbbd27f": {
     "id": "8a95d849-d9dc-465d-8c3b-23f88cbbd27f",
     "prev": "5aa95c0a-36ba-4b8a-b901-5904613c6845",
     "regions": {
      "1da393b2-0977-4e66-9806-0962a1d0eb0d": {
       "attrs": {
        "height": 0.8,
        "width": 0.8,
        "x": 0.1,
        "y": 0.1
       },
       "content": {
        "cell": "80427542-5092-47e5-9869-fe4c1d5d9436",
        "part": "whole"
       },
       "id": "1da393b2-0977-4e66-9806-0962a1d0eb0d"
      }
     }
    },
    "9243a238-88fe-4a58-a318-b5bbfdab70bd": {
     "id": "9243a238-88fe-4a58-a318-b5bbfdab70bd",
     "prev": "9dc519fc-7552-47e5-bbb4-cd47e5cd820a",
     "regions": {
      "2e98c9c0-b6fc-427b-b3b9-cdff75fa9865": {
       "attrs": {
        "height": 0.8,
        "width": 0.8,
        "x": 0.1,
        "y": 0.1
       },
       "content": {
        "cell": "daac437d-8a82-4d78-9747-72bf626b9832",
        "part": "whole"
       },
       "id": "2e98c9c0-b6fc-427b-b3b9-cdff75fa9865"
      }
     }
    },
    "93050b90-90e3-4023-9d07-6f76bb6eb6c5": {
     "id": "93050b90-90e3-4023-9d07-6f76bb6eb6c5",
     "prev": "36a920d5-1186-4b93-8108-0d856e4b7477",
     "regions": {
      "7f042e58-c6f3-4b0f-b7b8-289cdc3d4ee1": {
       "attrs": {
        "height": 0.8,
        "width": 0.8,
        "x": 0.1,
        "y": 0.1
       },
       "content": {
        "cell": "b62adfdd-9630-420e-98a3-718a5c032dc8",
        "part": "whole"
       },
       "id": "7f042e58-c6f3-4b0f-b7b8-289cdc3d4ee1"
      }
     }
    },
    "95a06426-a24e-4e1a-aef1-a2d55240bb56": {
     "id": "95a06426-a24e-4e1a-aef1-a2d55240bb56",
     "layout": "grid",
     "prev": "b43210bb-5d57-4801-8dd1-52ad1dd6fd7f",
     "regions": {
      "b9fa4432-876b-4ee1-ac1f-1f6efc07f25c": {
       "attrs": {
        "height": 1,
        "pad": 0.01,
        "treemap:weight": 1,
        "width": 1,
        "x": 0,
        "y": 0
       },
       "content": {
        "cell": "1c4fb907-a33a-440b-b776-149ac09d7ff1",
        "part": "whole"
       },
       "id": "b9fa4432-876b-4ee1-ac1f-1f6efc07f25c"
      }
     },
     "theme": null
    },
    "97864da1-04c1-40ea-9baa-40c7befc0db4": {
     "id": "97864da1-04c1-40ea-9baa-40c7befc0db4",
     "prev": "30cced21-d92c-40f8-a738-5d9ee48abc72",
     "regions": {
      "e7f31d19-881f-408a-b669-92fb28ff6147": {
       "attrs": {
        "height": 0.8,
        "width": 0.8,
        "x": 0.1,
        "y": 0.1
       },
       "content": {
        "cell": "579d4ec1-aa42-4b05-913c-61b04289c0fe",
        "part": "whole"
       },
       "id": "e7f31d19-881f-408a-b669-92fb28ff6147"
      }
     }
    },
    "994dab50-c867-4352-ab3c-3e86621e3058": {
     "id": "994dab50-c867-4352-ab3c-3e86621e3058",
     "prev": "04151d4f-b73a-41b3-afa8-eeede2eb18e2",
     "regions": {
      "d6fccb85-000b-4946-a2ab-416f933d4fcd": {
       "attrs": {
        "height": 0.8,
        "width": 0.8,
        "x": 0.1,
        "y": 0.1
       },
       "content": {
        "cell": "e6194d30-a2a9-4628-8457-168e76b1ad53",
        "part": "whole"
       },
       "id": "d6fccb85-000b-4946-a2ab-416f933d4fcd"
      }
     }
    },
    "9acc0ab5-6ac5-4ea4-a5ed-2c23a8db5d5f": {
     "id": "9acc0ab5-6ac5-4ea4-a5ed-2c23a8db5d5f",
     "prev": "cf03ea67-dd28-4edf-833f-d56d1eea974a",
     "regions": {
      "36120900-c779-4d9c-bb6b-3bb7fb81a546": {
       "attrs": {
        "height": 0.8,
        "width": 0.8,
        "x": 0.1,
        "y": 0.1
       },
       "content": {
        "cell": "bc850466-f2fe-43de-b1d6-0a5c71135c4d",
        "part": "whole"
       },
       "id": "36120900-c779-4d9c-bb6b-3bb7fb81a546"
      }
     }
    },
    "9ccb52ea-2a3f-494f-8bb1-fc9b87a06179": {
     "id": "9ccb52ea-2a3f-494f-8bb1-fc9b87a06179",
     "prev": "49e014af-be42-4691-8036-656404bc8c75",
     "regions": {
      "37fe6d1e-74eb-4f66-9f37-392ed385ea82": {
       "attrs": {
        "height": 0.8,
        "width": 0.8,
        "x": 0.1,
        "y": 0.1
       },
       "content": {
        "cell": "6ad2e4ce-a440-49f7-af15-181bd5b5937e",
        "part": "whole"
       },
       "id": "37fe6d1e-74eb-4f66-9f37-392ed385ea82"
      }
     }
    },
    "9d0f769e-bd00-4046-98fa-ab0cc9571ccd": {
     "id": "9d0f769e-bd00-4046-98fa-ab0cc9571ccd",
     "prev": "e200d36b-7f58-48b8-915b-2848f6b9ba77",
     "regions": {
      "a48335c8-011c-45bf-a0dd-893b75825a87": {
       "attrs": {
        "height": 0.8,
        "width": 0.8,
        "x": 0.1,
        "y": 0.1
       },
       "content": {
        "cell": "02aa4749-c9c1-4808-859f-b46db4f3fca7",
        "part": "whole"
       },
       "id": "a48335c8-011c-45bf-a0dd-893b75825a87"
      }
     }
    },
    "9dc519fc-7552-47e5-bbb4-cd47e5cd820a": {
     "id": "9dc519fc-7552-47e5-bbb4-cd47e5cd820a",
     "prev": "9ccb52ea-2a3f-494f-8bb1-fc9b87a06179",
     "regions": {
      "07e83c69-9ea9-4a41-a674-9e9f1503e1b3": {
       "attrs": {
        "height": 0.8,
        "width": 0.8,
        "x": 0.1,
        "y": 0.1
       },
       "content": {
        "cell": "9cf92cc4-7f40-499b-8e82-7783fad9ca54",
        "part": "whole"
       },
       "id": "07e83c69-9ea9-4a41-a674-9e9f1503e1b3"
      }
     }
    },
    "9de41647-5d51-4e1d-b90d-83204759edbe": {
     "id": "9de41647-5d51-4e1d-b90d-83204759edbe",
     "prev": "28401faf-e345-4af4-b05e-d4514436ce9d",
     "regions": {
      "bb1cef22-0ab8-42dd-abb8-fae1c92720e5": {
       "attrs": {
        "height": 0.8,
        "width": 0.8,
        "x": 0.1,
        "y": 0.1
       },
       "content": {
        "cell": "8db1bddf-a63f-4430-829d-b1bb8a7581d5",
        "part": "whole"
       },
       "id": "bb1cef22-0ab8-42dd-abb8-fae1c92720e5"
      }
     }
    },
    "a034f8ba-96c1-4b60-8768-665b9233f6e6": {
     "id": "a034f8ba-96c1-4b60-8768-665b9233f6e6",
     "prev": "fa82e2ca-9de2-41e1-bb13-1c1ae3cea455",
     "regions": {
      "0371babc-b922-48bc-a39c-adefabff6cc4": {
       "attrs": {
        "height": 0.8,
        "width": 0.8,
        "x": 0.1,
        "y": 0.1
       },
       "content": {
        "cell": "0b954d1b-9fed-4258-b04a-3ec61182fa68",
        "part": "whole"
       },
       "id": "0371babc-b922-48bc-a39c-adefabff6cc4"
      },
      "349194da-a067-4e39-bb1d-4e2f72d3c9d0": {
       "attrs": {
        "height": 0.4,
        "width": 0.8,
        "x": 0.1,
        "y": 0.5
       },
       "content": {
        "cell": "8573ca37-e995-47c7-80ca-9c370d0c991d",
        "part": "whole"
       },
       "id": "349194da-a067-4e39-bb1d-4e2f72d3c9d0"
      },
      "5885593b-11e9-4a1c-a321-e0454fb8c490": {
       "attrs": {
        "height": 0.4,
        "width": 0.8,
        "x": 0.1,
        "y": 0.5
       },
       "content": {
        "cell": "68b0f061-9b0b-4563-b34e-cce6546c4c00",
        "part": "whole"
       },
       "id": "5885593b-11e9-4a1c-a321-e0454fb8c490"
      },
      "71b6cbdc-1acb-400d-bbe5-fb3a3fa6c134": {
       "attrs": {
        "height": 0.4,
        "width": 0.8,
        "x": 0.1,
        "y": 0.5
       },
       "content": {
        "cell": "e599a87f-b710-4588-b62c-661d091eed21",
        "part": "whole"
       },
       "id": "71b6cbdc-1acb-400d-bbe5-fb3a3fa6c134"
      },
      "732ff8bc-68bf-4def-9772-f4e40a7e55d6": {
       "attrs": {
        "height": 0.4,
        "width": 0.8,
        "x": 0.1,
        "y": 0.5
       },
       "content": {
        "cell": "a6cc14d1-1c5a-4666-8246-1c70902cbd4e",
        "part": "whole"
       },
       "id": "732ff8bc-68bf-4def-9772-f4e40a7e55d6"
      },
      "7f4fc8a3-49e4-440f-8abc-680759d2df5b": {
       "attrs": {
        "height": 0.4,
        "width": 0.8,
        "x": 0.1,
        "y": 0.5
       },
       "content": {
        "cell": "a87fc655-24dc-4f2d-8a7e-acfe2cee1ca8",
        "part": "whole"
       },
       "id": "7f4fc8a3-49e4-440f-8abc-680759d2df5b"
      },
      "843668e7-d28f-4462-a52c-c6c15e4cd5cf": {
       "attrs": {
        "height": 0.4,
        "width": 0.8,
        "x": 0.1,
        "y": 0.5
       },
       "content": {
        "cell": "17489902-ddc6-4fec-a155-1434daa7fb84",
        "part": "whole"
       },
       "id": "843668e7-d28f-4462-a52c-c6c15e4cd5cf"
      },
      "b0317aa4-ca9d-4db5-8487-e09fa1a982b6": {
       "attrs": {
        "height": 0.4,
        "width": 0.8,
        "x": 0.1,
        "y": 0.5
       },
       "content": {
        "cell": "6b3b2add-f6be-4fd5-9422-6fc9332d7381",
        "part": "whole"
       },
       "id": "b0317aa4-ca9d-4db5-8487-e09fa1a982b6"
      }
     }
    },
    "a0542f28-0021-4d2b-a2a0-c1c96e68265e": {
     "id": "a0542f28-0021-4d2b-a2a0-c1c96e68265e",
     "prev": "bb62b981-4ca8-4baa-8b26-f5ec4a716119",
     "regions": {
      "313bbc17-7b80-43b4-8f8d-1acd4f642aa5": {
       "attrs": {
        "height": 0.8,
        "width": 0.8,
        "x": 0.1,
        "y": 0.1
       },
       "content": {
        "cell": "4b03c9cc-be59-4a00-bf9b-9280e7aa57e8",
        "part": "whole"
       },
       "id": "313bbc17-7b80-43b4-8f8d-1acd4f642aa5"
      }
     }
    },
    "a5452c0e-68df-4ccb-8ef0-de49deba4596": {
     "id": "a5452c0e-68df-4ccb-8ef0-de49deba4596",
     "prev": "c2ffbd13-e2bd-46ee-a552-7b02e2a1b7fc",
     "regions": {
      "c32a0f21-9c7c-47b4-a1b2-374ed99f5133": {
       "attrs": {
        "height": 0.4,
        "width": 0.8,
        "x": 0.1,
        "y": 0.5
       },
       "content": {
        "cell": "f0daca1e-a50f-4a69-b91f-af0116d36e2c",
        "part": "whole"
       },
       "id": "c32a0f21-9c7c-47b4-a1b2-374ed99f5133"
      },
      "e99a1493-d999-4551-8721-abd6a912d974": {
       "attrs": {
        "height": 0.8,
        "width": 0.8,
        "x": 0.1,
        "y": 0.1
       },
       "content": {
        "cell": "851bee9d-c5e7-4422-ae7d-992d7bb50bbe",
        "part": "whole"
       },
       "id": "e99a1493-d999-4551-8721-abd6a912d974"
      }
     }
    },
    "a82c824f-8655-4a70-ac10-e90a054cda92": {
     "id": "a82c824f-8655-4a70-ac10-e90a054cda92",
     "prev": "a8858388-bdf6-4d0f-91a6-8e09a7f884f6",
     "regions": {
      "ae2ba34d-3b12-4416-a559-a0c60446e5af": {
       "attrs": {
        "height": 0.8,
        "width": 0.8,
        "x": 0.1,
        "y": 0.1
       },
       "content": {
        "cell": "71a2d68d-1562-46ea-9ae4-0552b45c34f3",
        "part": "whole"
       },
       "id": "ae2ba34d-3b12-4416-a559-a0c60446e5af"
      }
     }
    },
    "a82ffbcb-a66c-43b0-ae2e-3de33a43bd84": {
     "id": "a82ffbcb-a66c-43b0-ae2e-3de33a43bd84",
     "prev": "9acc0ab5-6ac5-4ea4-a5ed-2c23a8db5d5f",
     "regions": {
      "4716d6a6-27b9-4573-afe7-81db64fd4530": {
       "attrs": {
        "height": 0.8,
        "width": 0.8,
        "x": 0.1,
        "y": 0.1
       },
       "content": {
        "cell": "2ae9eb14-eba2-48bd-bab6-65e853c7e7bc",
        "part": "whole"
       },
       "id": "4716d6a6-27b9-4573-afe7-81db64fd4530"
      },
      "a1660825-8316-4a9b-abd6-9cc46a842c29": {
       "attrs": {
        "height": 0.4,
        "width": 0.8,
        "x": 0.1,
        "y": 0.5
       },
       "content": {
        "cell": "7d7e9377-dee1-493c-b1b2-346345017eb7",
        "part": "whole"
       },
       "id": "a1660825-8316-4a9b-abd6-9cc46a842c29"
      }
     }
    },
    "a8858388-bdf6-4d0f-91a6-8e09a7f884f6": {
     "id": "a8858388-bdf6-4d0f-91a6-8e09a7f884f6",
     "prev": "d33ab872-468f-462c-9c56-4de2000c6d0e",
     "regions": {
      "eb8c5d5e-6f63-4f76-95b5-9b529eaed8d6": {
       "attrs": {
        "height": 0.8,
        "width": 0.8,
        "x": 0.1,
        "y": 0.1
       },
       "content": {
        "cell": "b8a6e29b-9d09-4d49-9dfc-a8465d8ee6eb",
        "part": "whole"
       },
       "id": "eb8c5d5e-6f63-4f76-95b5-9b529eaed8d6"
      }
     }
    },
    "a8ebe69e-4cab-43db-add4-a0ef3ad3e6ab": {
     "id": "a8ebe69e-4cab-43db-add4-a0ef3ad3e6ab",
     "prev": "a034f8ba-96c1-4b60-8768-665b9233f6e6",
     "regions": {
      "1e7d3f31-cd2a-4ac9-a9bd-54174bf8cf90": {
       "attrs": {
        "height": 0.8,
        "width": 0.8,
        "x": 0.1,
        "y": 0.1
       },
       "content": {
        "cell": "38694980-11e6-4cde-b178-9bac6db18874",
        "part": "whole"
       },
       "id": "1e7d3f31-cd2a-4ac9-a9bd-54174bf8cf90"
      }
     }
    },
    "a901b1e6-d714-492a-82fa-3e8a1930b258": {
     "id": "a901b1e6-d714-492a-82fa-3e8a1930b258",
     "prev": "9243a238-88fe-4a58-a318-b5bbfdab70bd",
     "regions": {
      "ae9a5ea3-ca14-4fec-9a6e-1797f4124394": {
       "attrs": {
        "height": 0.8,
        "width": 0.8,
        "x": 0.1,
        "y": 0.1
       },
       "content": {
        "cell": "4b7eba93-3673-4dcc-9b1e-503089f422cc",
        "part": "whole"
       },
       "id": "ae9a5ea3-ca14-4fec-9a6e-1797f4124394"
      }
     }
    },
    "a9ccf56f-43c3-40dc-a4e2-46b99f96a209": {
     "id": "a9ccf56f-43c3-40dc-a4e2-46b99f96a209",
     "prev": "ded12e94-81a3-4469-9ba2-d382d6be6f62",
     "regions": {
      "42cc7ab8-459c-4dbf-9343-d17082bfde95": {
       "attrs": {
        "height": 0.8,
        "width": 0.8,
        "x": 0.1,
        "y": 0.1
       },
       "content": {
        "cell": "5908975b-57c5-4041-ba24-0967eb5562d8",
        "part": "whole"
       },
       "id": "42cc7ab8-459c-4dbf-9343-d17082bfde95"
      }
     }
    },
    "aa9363a9-eeee-44a9-93fa-aca177448456": {
     "id": "aa9363a9-eeee-44a9-93fa-aca177448456",
     "prev": "6797ca64-9919-4cf5-b565-0fb93a323fd3",
     "regions": {
      "88efaa8e-8073-4497-ad1b-76dbc60f2f87": {
       "attrs": {
        "height": 0.8,
        "width": 0.8,
        "x": 0.1,
        "y": 0.1
       },
       "content": {
        "cell": "86a43965-c155-4e54-8e2c-df96f38aab4b",
        "part": "whole"
       },
       "id": "88efaa8e-8073-4497-ad1b-76dbc60f2f87"
      }
     }
    },
    "aeb728be-5b61-4476-9652-872b3d049fd0": {
     "id": "aeb728be-5b61-4476-9652-872b3d049fd0",
     "prev": "ba06b37d-94f5-448f-b408-5c86c87fa406",
     "regions": {
      "27d5815e-6d7a-4678-b047-08c33f374880": {
       "attrs": {
        "height": 0.4,
        "width": 0.8,
        "x": 0.1,
        "y": 0.5
       },
       "content": {
        "cell": "2b3e1fa7-787f-47d6-8819-fd894cd674ab",
        "part": "whole"
       },
       "id": "27d5815e-6d7a-4678-b047-08c33f374880"
      },
      "6b7e67d5-20a9-4371-89d6-e8403c8b489e": {
       "attrs": {
        "height": 0.4,
        "width": 0.8,
        "x": 0.1,
        "y": 0.5
       },
       "content": {
        "cell": "03fe8fd2-5f9b-4b39-ab32-3e1bb3fab6a3",
        "part": "whole"
       },
       "id": "6b7e67d5-20a9-4371-89d6-e8403c8b489e"
      },
      "fa3cc395-3756-409a-8d12-bafee2cd95bb": {
       "attrs": {
        "height": 0.8,
        "width": 0.8,
        "x": 0.1,
        "y": 0.1
       },
       "content": {
        "cell": "686ad9f3-f670-48bd-b374-4c160ad9d107",
        "part": "whole"
       },
       "id": "fa3cc395-3756-409a-8d12-bafee2cd95bb"
      }
     }
    },
    "b26b07f2-639a-42ef-a307-127532b0a331": {
     "id": "b26b07f2-639a-42ef-a307-127532b0a331",
     "prev": "570de9c7-8de5-46fb-988a-e9d03595d4cc",
     "regions": {
      "b87fd16b-a9e8-4eb9-b955-6ea43a905cdb": {
       "attrs": {
        "height": 0.8,
        "width": 0.8,
        "x": 0.1,
        "y": 0.1
       },
       "content": {
        "cell": "ccf1711f-eb5f-45ec-8be6-3f120cb5e3d7",
        "part": "whole"
       },
       "id": "b87fd16b-a9e8-4eb9-b955-6ea43a905cdb"
      }
     }
    },
    "b43210bb-5d57-4801-8dd1-52ad1dd6fd7f": {
     "id": "b43210bb-5d57-4801-8dd1-52ad1dd6fd7f",
     "prev": null,
     "regions": {
      "f43fd5f9-c8fc-433f-95ea-6ac9b7c36089": {
       "attrs": {
        "height": 0.8,
        "width": 0.8,
        "x": 0.1,
        "y": 0.1
       },
       "content": {
        "cell": "d8507350-a78e-4543-bac8-b00143a99bb4",
        "part": "whole"
       },
       "id": "f43fd5f9-c8fc-433f-95ea-6ac9b7c36089"
      }
     }
    },
    "b8cdf6b2-2730-44c8-ac2f-d401da0b8774": {
     "id": "b8cdf6b2-2730-44c8-ac2f-d401da0b8774",
     "prev": "a82ffbcb-a66c-43b0-ae2e-3de33a43bd84",
     "regions": {
      "261d033a-42b8-4b9a-ad74-8c2c853abda1": {
       "attrs": {
        "height": 0.8,
        "width": 0.8,
        "x": 0.1,
        "y": 0.1
       },
       "content": {
        "cell": "ae0472ed-a1c4-4d7d-a33e-b7eb96bf73c5",
        "part": "whole"
       },
       "id": "261d033a-42b8-4b9a-ad74-8c2c853abda1"
      }
     }
    },
    "b8de8e9d-b723-4033-9776-8477bb011150": {
     "id": "b8de8e9d-b723-4033-9776-8477bb011150",
     "prev": "3146a53a-096a-400b-81b3-d43693b8118f",
     "regions": {
      "b380f398-c1e7-42de-81aa-8d489eeba45c": {
       "attrs": {
        "height": 0.8,
        "width": 0.8,
        "x": 0.1,
        "y": 0.1
       },
       "content": {
        "cell": "f21fde45-ff32-492c-84dd-c5b4190c056a",
        "part": "whole"
       },
       "id": "b380f398-c1e7-42de-81aa-8d489eeba45c"
      }
     }
    },
    "ba06b37d-94f5-448f-b408-5c86c87fa406": {
     "id": "ba06b37d-94f5-448f-b408-5c86c87fa406",
     "prev": "18faa3b8-f207-48de-8d7d-59aa1933ffa3",
     "regions": {
      "b6570e5e-3b31-4c38-8c94-3b7581b62399": {
       "attrs": {
        "height": 0.8,
        "width": 0.8,
        "x": 0.1,
        "y": 0.1
       },
       "content": {
        "cell": "b4c1261e-154f-410b-94dc-42ca36536330",
        "part": "whole"
       },
       "id": "b6570e5e-3b31-4c38-8c94-3b7581b62399"
      }
     }
    },
    "bb62b981-4ca8-4baa-8b26-f5ec4a716119": {
     "id": "bb62b981-4ca8-4baa-8b26-f5ec4a716119",
     "prev": "c11b6038-1704-4063-9d86-cb15a9390edb",
     "regions": {
      "177f9364-b3bc-4e96-8a11-b6f9d6d29e63": {
       "attrs": {
        "height": 0.8,
        "width": 0.8,
        "x": 0.1,
        "y": 0.1
       },
       "content": {
        "cell": "47ac72ef-6cc2-4da5-a7b6-ec1230774545",
        "part": "whole"
       },
       "id": "177f9364-b3bc-4e96-8a11-b6f9d6d29e63"
      }
     }
    },
    "bc786d42-a02f-457b-bdf4-4ce78b3d38e8": {
     "id": "bc786d42-a02f-457b-bdf4-4ce78b3d38e8",
     "prev": "43fd934e-daf8-48a9-972e-0178854ae2fb",
     "regions": {
      "0da68a29-883e-4a69-847c-a167a43300de": {
       "attrs": {
        "height": 0.8,
        "width": 0.8,
        "x": 0.1,
        "y": 0.1
       },
       "content": {
        "cell": "29331730-c7fd-4b74-a442-698d20075d8f",
        "part": "whole"
       },
       "id": "0da68a29-883e-4a69-847c-a167a43300de"
      }
     }
    },
    "bfb6645b-fd57-4576-886c-e273e1433d2a": {
     "id": "bfb6645b-fd57-4576-886c-e273e1433d2a",
     "prev": "7cb2252d-7d34-459d-97b8-debe36d0ea27",
     "regions": {
      "efd7a8b1-7683-4483-8ad3-ad88e0b959d2": {
       "attrs": {
        "height": 0.8,
        "width": 0.8,
        "x": 0.1,
        "y": 0.1
       },
       "content": {
        "cell": "00a0317b-5d68-4540-bd9e-e76899d00a37",
        "part": "whole"
       },
       "id": "efd7a8b1-7683-4483-8ad3-ad88e0b959d2"
      }
     }
    },
    "c11b6038-1704-4063-9d86-cb15a9390edb": {
     "id": "c11b6038-1704-4063-9d86-cb15a9390edb",
     "prev": "1a34be57-a149-4b70-9d42-b098a60cabbf",
     "regions": {
      "4c57ee99-4160-45a3-a57f-9f0a15b5081b": {
       "attrs": {
        "height": 0.8,
        "width": 0.8,
        "x": 0.1,
        "y": 0.1
       },
       "content": {
        "cell": "0b5f74ce-ea97-45f9-a699-225680c48bc3",
        "part": "whole"
       },
       "id": "4c57ee99-4160-45a3-a57f-9f0a15b5081b"
      }
     }
    },
    "c2ffbd13-e2bd-46ee-a552-7b02e2a1b7fc": {
     "id": "c2ffbd13-e2bd-46ee-a552-7b02e2a1b7fc",
     "prev": "994dab50-c867-4352-ab3c-3e86621e3058",
     "regions": {
      "0e235b6c-74bf-4f12-be03-678c2b75ede0": {
       "attrs": {
        "height": 0.8,
        "width": 0.8,
        "x": 0.1,
        "y": 0.1
       },
       "content": {
        "cell": "f5561d07-f56d-472a-a765-10ce597f62a2",
        "part": "whole"
       },
       "id": "0e235b6c-74bf-4f12-be03-678c2b75ede0"
      }
     }
    },
    "c32204b6-01b9-4119-8b7b-7f9791ea763d": {
     "id": "c32204b6-01b9-4119-8b7b-7f9791ea763d",
     "prev": "6d129902-2549-4456-9564-89132482ce6b",
     "regions": {
      "6b09d288-51a7-495f-9a2d-8d1060c5cf99": {
       "attrs": {
        "height": 0.8,
        "width": 0.8,
        "x": 0.1,
        "y": 0.1
       },
       "content": {
        "cell": "179fc359-8252-4d2b-b17f-62b8375d2b47",
        "part": "whole"
       },
       "id": "6b09d288-51a7-495f-9a2d-8d1060c5cf99"
      }
     }
    },
    "c5a2e819-a59f-423c-9203-91b08e955bbf": {
     "id": "c5a2e819-a59f-423c-9203-91b08e955bbf",
     "prev": "aa9363a9-eeee-44a9-93fa-aca177448456",
     "regions": {
      "bfa19a93-521a-4e11-8f75-45cbf5ed3f3f": {
       "attrs": {
        "height": 0.8,
        "width": 0.8,
        "x": 0.1,
        "y": 0.1
       },
       "content": {
        "cell": "a9124c42-11ff-42c2-8796-30a65fefdc8b",
        "part": "whole"
       },
       "id": "bfa19a93-521a-4e11-8f75-45cbf5ed3f3f"
      }
     }
    },
    "c7b2aaab-8fcb-4f3e-b7c4-87e21371356f": {
     "id": "c7b2aaab-8fcb-4f3e-b7c4-87e21371356f",
     "prev": "67171314-ddb6-49ee-814c-5774a66d842e",
     "regions": {
      "453ec3e4-ba16-4188-87c9-847ef55ef912": {
       "attrs": {
        "height": 0.8,
        "width": 0.8,
        "x": 0.1,
        "y": 0.1
       },
       "content": {
        "cell": "40e98647-c70a-4eee-a2d9-6359fa0b3efe",
        "part": "whole"
       },
       "id": "453ec3e4-ba16-4188-87c9-847ef55ef912"
      }
     }
    },
    "caac1d3f-e5d5-46ee-a11b-444a2bbb66ad": {
     "id": "caac1d3f-e5d5-46ee-a11b-444a2bbb66ad",
     "prev": "1ecab144-c0a0-40df-a132-d2e8c8e4d7b0",
     "regions": {
      "83e0fea0-6ea4-4932-8ee3-75b83d672972": {
       "attrs": {
        "height": 0.4,
        "width": 0.8,
        "x": 0.1,
        "y": 0.5
       },
       "content": {
        "cell": "ab4abcf0-724d-4621-8dde-b8a6cc1af157",
        "part": "whole"
       },
       "id": "83e0fea0-6ea4-4932-8ee3-75b83d672972"
      },
      "a1d3bda6-dc04-41bc-84ca-02eaa688be82": {
       "attrs": {
        "height": 0.8,
        "width": 0.8,
        "x": 0.1,
        "y": 0.1
       },
       "content": {
        "cell": "ed686223-1f48-4c3b-a006-6b6c71d550bb",
        "part": "whole"
       },
       "id": "a1d3bda6-dc04-41bc-84ca-02eaa688be82"
      }
     }
    },
    "cf03ea67-dd28-4edf-833f-d56d1eea974a": {
     "id": "cf03ea67-dd28-4edf-833f-d56d1eea974a",
     "prev": "d6bff51f-5f06-4b3d-8cee-04a3ad320b68",
     "regions": {
      "463f68a1-366f-4171-af8e-fbd46fa9b176": {
       "attrs": {
        "height": 0.8,
        "width": 0.8,
        "x": 0.1,
        "y": 0.1
       },
       "content": {
        "cell": "dce54835-df96-44e5-a244-8e24930bcff7",
        "part": "whole"
       },
       "id": "463f68a1-366f-4171-af8e-fbd46fa9b176"
      }
     }
    },
    "d33ab872-468f-462c-9c56-4de2000c6d0e": {
     "id": "d33ab872-468f-462c-9c56-4de2000c6d0e",
     "prev": "b8de8e9d-b723-4033-9776-8477bb011150",
     "regions": {
      "681f9146-d13c-4038-8c34-9cf9b06b7898": {
       "attrs": {
        "height": 0.8,
        "width": 0.8,
        "x": 0.1,
        "y": 0.1
       },
       "content": {
        "cell": "4076560f-0bc5-4b60-a9b3-78215175f4e4",
        "part": "whole"
       },
       "id": "681f9146-d13c-4038-8c34-9cf9b06b7898"
      }
     }
    },
    "d6bff51f-5f06-4b3d-8cee-04a3ad320b68": {
     "id": "d6bff51f-5f06-4b3d-8cee-04a3ad320b68",
     "prev": "8a95d849-d9dc-465d-8c3b-23f88cbbd27f",
     "regions": {
      "dffc3ee4-bcb8-465a-a015-7d06cc06aa88": {
       "attrs": {
        "height": 0.8,
        "width": 0.8,
        "x": 0.1,
        "y": 0.1
       },
       "content": {
        "cell": "e72381b1-56e7-4c23-8567-89028f03658d",
        "part": "whole"
       },
       "id": "dffc3ee4-bcb8-465a-a015-7d06cc06aa88"
      }
     }
    },
    "d6c4d60d-479c-41ce-9afc-9c1b7ba9840b": {
     "id": "d6c4d60d-479c-41ce-9afc-9c1b7ba9840b",
     "prev": "95a06426-a24e-4e1a-aef1-a2d55240bb56",
     "regions": {
      "ca635518-fc27-4271-b049-312840d25693": {
       "attrs": {
        "height": 0.8,
        "width": 0.8,
        "x": 0.1,
        "y": 0.1
       },
       "content": {
        "cell": "f5aaa047-9eb9-4cd7-9e2c-862b33ca13cb",
        "part": "whole"
       },
       "id": "ca635518-fc27-4271-b049-312840d25693"
      }
     }
    },
    "d6eef2d8-8024-40e3-b054-9f99c60dd43d": {
     "id": "d6eef2d8-8024-40e3-b054-9f99c60dd43d",
     "prev": "d6c4d60d-479c-41ce-9afc-9c1b7ba9840b",
     "regions": {
      "5b67ecce-b44a-4b62-a467-326455385090": {
       "attrs": {
        "height": 0.8,
        "width": 0.8,
        "x": 0.1,
        "y": 0.1
       },
       "content": {
        "cell": "876cc054-a3e6-4893-add4-f290679380ff",
        "part": "whole"
       },
       "id": "5b67ecce-b44a-4b62-a467-326455385090"
      }
     }
    },
    "dbf4d62d-2361-41eb-8bf4-23967be140c3": {
     "id": "dbf4d62d-2361-41eb-8bf4-23967be140c3",
     "prev": "d6eef2d8-8024-40e3-b054-9f99c60dd43d",
     "regions": {
      "f121b3e2-a60b-4a38-8671-afe7ab6a1759": {
       "attrs": {
        "height": 0.8,
        "width": 0.8,
        "x": 0.1,
        "y": 0.1
       },
       "content": {
        "cell": "dd0d7334-8467-43a8-a535-86c9cb595d9f",
        "part": "whole"
       },
       "id": "f121b3e2-a60b-4a38-8671-afe7ab6a1759"
      }
     }
    },
    "dc0878f4-0282-457d-bee9-2fdf6b0f5842": {
     "id": "dc0878f4-0282-457d-bee9-2fdf6b0f5842",
     "prev": "4eaa7f5a-fb49-4797-959a-3ebd8b5822e4",
     "regions": {
      "ed5e40f6-03e2-4ea0-a659-51d2dbeb6c1b": {
       "attrs": {
        "height": 0.8,
        "width": 0.8,
        "x": 0.1,
        "y": 0.1
       },
       "content": {
        "cell": "64b478f7-afb9-4704-941f-d364146bca3c",
        "part": "whole"
       },
       "id": "ed5e40f6-03e2-4ea0-a659-51d2dbeb6c1b"
      }
     }
    },
    "ded12e94-81a3-4469-9ba2-d382d6be6f62": {
     "id": "ded12e94-81a3-4469-9ba2-d382d6be6f62",
     "prev": "7a1efcc6-6019-4ea6-a8d5-db2bce465751",
     "regions": {
      "71b4d381-a55a-4c74-aa56-e88bdd32e0b3": {
       "attrs": {
        "height": 0.8,
        "width": 0.8,
        "x": 0.1,
        "y": 0.1
       },
       "content": {
        "cell": "e8c36310-ed1b-4a0e-b2c7-d4f8b2686991",
        "part": "whole"
       },
       "id": "71b4d381-a55a-4c74-aa56-e88bdd32e0b3"
      }
     }
    },
    "dfe08f19-e5a2-4f5a-b355-409aa1aae0af": {
     "id": "dfe08f19-e5a2-4f5a-b355-409aa1aae0af",
     "prev": "64a4a6cf-5192-4f5d-9fe5-42e513c34f0c",
     "regions": {
      "52b9a4e6-0fd7-4f99-bc32-479d20fb1989": {
       "attrs": {
        "height": 0.8,
        "width": 0.8,
        "x": 0.1,
        "y": 0.1
       },
       "content": {
        "cell": "b75a3027-b3ac-4b6f-8b9e-1be4d4714d82",
        "part": "whole"
       },
       "id": "52b9a4e6-0fd7-4f99-bc32-479d20fb1989"
      }
     }
    },
    "e1db2851-565a-4bfe-8153-501cafa64620": {
     "id": "e1db2851-565a-4bfe-8153-501cafa64620",
     "prev": "5d710fde-5362-4ee0-8244-e1f0a298b094",
     "regions": {
      "92a3d8df-7237-448f-9d8e-2a413992f6d7": {
       "attrs": {
        "height": 0.8,
        "width": 0.8,
        "x": 0.1,
        "y": 0.1
       },
       "content": {
        "cell": "05d662fa-36d7-4d32-9c85-6b28b623b752",
        "part": "whole"
       },
       "id": "92a3d8df-7237-448f-9d8e-2a413992f6d7"
      }
     }
    },
    "e200d36b-7f58-48b8-915b-2848f6b9ba77": {
     "id": "e200d36b-7f58-48b8-915b-2848f6b9ba77",
     "prev": "673aea23-13d6-49a1-9962-9633fde8ec76",
     "regions": {
      "0e1878b1-bc3f-499d-95a2-84913468f011": {
       "attrs": {
        "height": 0.8,
        "width": 0.8,
        "x": 0.1,
        "y": 0.1
       },
       "content": {
        "cell": "421322b9-0526-43a2-90bf-87b78597443f",
        "part": "whole"
       },
       "id": "0e1878b1-bc3f-499d-95a2-84913468f011"
      }
     }
    },
    "e5899c55-80a9-40de-8097-38ff3c5e7d7f": {
     "id": "e5899c55-80a9-40de-8097-38ff3c5e7d7f",
     "prev": "93050b90-90e3-4023-9d07-6f76bb6eb6c5",
     "regions": {
      "2e428adf-b6dd-4391-bdd1-5bab2bcc1189": {
       "attrs": {
        "height": 0.8,
        "width": 0.8,
        "x": 0.1,
        "y": 0.1
       },
       "content": {
        "cell": "a7470176-a693-4c15-95b3-965ca115730f",
        "part": "whole"
       },
       "id": "2e428adf-b6dd-4391-bdd1-5bab2bcc1189"
      }
     }
    },
    "ec8892cc-b061-4156-a01b-206e16624fc0": {
     "id": "ec8892cc-b061-4156-a01b-206e16624fc0",
     "prev": "a0542f28-0021-4d2b-a2a0-c1c96e68265e",
     "regions": {
      "0d64c55e-92a6-4fbe-b0d4-6437221d0d3c": {
       "attrs": {
        "height": 0.8,
        "width": 0.8,
        "x": 0.1,
        "y": 0.1
       },
       "content": {
        "cell": "d60bf4d4-f0d9-4fbf-ad6c-7cf4167dfad7",
        "part": "whole"
       },
       "id": "0d64c55e-92a6-4fbe-b0d4-6437221d0d3c"
      }
     }
    },
    "f6b26723-8301-4f53-9bee-ec65ec810ab8": {
     "id": "f6b26723-8301-4f53-9bee-ec65ec810ab8",
     "prev": "499c75be-d776-4839-984d-27382e70c396",
     "regions": {
      "b45343a6-422d-4131-a956-2fe9de3c4ef4": {
       "attrs": {
        "height": 0.8,
        "width": 0.8,
        "x": 0.1,
        "y": 0.1
       },
       "content": {
        "cell": "5989d14b-d124-40d6-8805-4fc3a7157991",
        "part": "whole"
       },
       "id": "b45343a6-422d-4131-a956-2fe9de3c4ef4"
      }
     }
    },
    "fa82e2ca-9de2-41e1-bb13-1c1ae3cea455": {
     "id": "fa82e2ca-9de2-41e1-bb13-1c1ae3cea455",
     "prev": "2617868b-82fc-4cc8-b0f9-ede5cf30759d",
     "regions": {
      "e9fb57d7-856b-4260-bb6a-9709b6c3f420": {
       "attrs": {
        "height": 0.8,
        "width": 0.8,
        "x": 0.1,
        "y": 0.1
       },
       "content": {
        "cell": "5c9e01a2-9e79-49af-a91b-962326506fb2",
        "part": "whole"
       },
       "id": "e9fb57d7-856b-4260-bb6a-9709b6c3f420"
      }
     }
    }
   },
   "themes": {
    "default": "52121738-57f9-486e-9e8a-5cf8bba53fce",
    "theme": {}
   }
  }
 },
 "nbformat": 4,
 "nbformat_minor": 2
}
