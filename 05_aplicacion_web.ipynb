{
 "cells": [
  {
   "cell_type": "markdown",
   "metadata": {},
   "source": [
    "#  Flask\n",
    "\n",
    " - ### Flask es un framework web: Proporciona las herramientas para crear aplicaciones web\n",
    " - ### Es un microframework: Sin dependencias a librerías externas\n",
    "-  ### Framework ligero\n",
    "-  #### [https://flask.palletsprojects.com](https://flask.palletsprojects.com)"
   ]
  },
  {
   "cell_type": "markdown",
   "metadata": {},
   "source": [
    "# Instalar Flask"
   ]
  },
  {
   "cell_type": "code",
   "execution_count": null,
   "metadata": {},
   "outputs": [],
   "source": [
    "!pip install flask"
   ]
  },
  {
   "cell_type": "code",
   "execution_count": null,
   "metadata": {},
   "outputs": [],
   "source": [
    "import flask\n",
    "print(flask.__version__)"
   ]
  },
  {
   "cell_type": "markdown",
   "metadata": {},
   "source": [
    "# Crear el directorio de la aplicación Web"
   ]
  },
  {
   "cell_type": "code",
   "execution_count": null,
   "metadata": {},
   "outputs": [],
   "source": [
    "# Crear el directorio de la aplicación\n",
    "!mkdir 05_aplicacion_web\n"
   ]
  },
  {
   "cell_type": "markdown",
   "metadata": {},
   "source": [
    "### Aplicacion Web en FLASK \n",
    "\n",
    "- Una vez que cree la instancia app, la utiliza para gestionar las solicitudes web entrantes y enviar respuestas al usuario. \n",
    "\n",
    "- @app.route es un decorador que convierte una función Python regular en una función vista de Flask\n",
    "\n",
    "- Convierte el valor de devolución de la función en una respuesta HTTP que se mostrará mediante un cliente HTTP\n",
    "\n",
    "-  Pasa el valor '/' a @app.route() para indicar que esta función responderá a las solicitudes web para la URL /, que es la URL principal.\n",
    "\n",
    "- La función de vista hello() devuelve la cadena 'Hello, World!'​​ como respuesta."
   ]
  },
  {
   "cell_type": "markdown",
   "metadata": {},
   "source": [
    "## Crear el archivo inicio.py\n"
   ]
  },
  {
   "cell_type": "code",
   "execution_count": null,
   "metadata": {},
   "outputs": [],
   "source": [
    "# Crear el archivo inicio.py\n",
    "\n",
    "from flask import Flask\n",
    "\n",
    "app = Flask(__name__)\n",
    "\n",
    "\n",
    "@app.route('/')\n",
    "def inicio():\n",
    "    return '¡Hola, mundo! Esta es mi primera aplicación Flask.'\n",
    "\n",
    "if __name__ == '__main__':\n",
    "    app.run(debug=True)\n"
   ]
  },
  {
   "cell_type": "markdown",
   "metadata": {},
   "source": [
    "### Ejecutar la aplicacion\n"
   ]
  },
  {
   "cell_type": "markdown",
   "metadata": {},
   "source": [
    "#### Desde la terminal, en el directorio de la aplicación\n",
    "\n",
    "#### <span style=\"color:#0485CF\"> python inicio.py </span>\n",
    "\n",
    "\n",
    "\n",
    "```\n",
    "* Running on http://127.0.0.1:5000\n",
    "Press CTRL+C to quit\n",
    " * Restarting with stat\n",
    " * Debugger is active!\n",
    " * Debugger PIN: 947-720-893\n",
    "127.0.0.1 - - [16/Feb/2024 14:56:02] \"GET / HTTP/1.1\" 200 -\n",
    "127.0.0.1 - - [16/Feb/2024 14:56:02] \"GET /favicon.ico HTTP/1.1\" 404 -\n",
    "127.0.0.1 - - [16/Feb/2024 14:58:34] \"GET / HTTP/1.1\" 200 -\n",
    "```\n",
    "\n"
   ]
  },
  {
   "cell_type": "markdown",
   "metadata": {},
   "source": [
    "#### Otra forma de ejecuta la aplicación web usando el puerto 5000\n",
    "#### <span style=\"color:#0485CF\"> flask --app inicio.py --debug run -p 5000 </span>\n",
    "\n"
   ]
  },
  {
   "cell_type": "markdown",
   "metadata": {},
   "source": [
    "# Entrar al navegador para ver los resultados\n",
    "http://127.0.0.1:5000\n"
   ]
  },
  {
   "cell_type": "code",
   "execution_count": null,
   "metadata": {},
   "outputs": [],
   "source": []
  },
  {
   "cell_type": "code",
   "execution_count": null,
   "metadata": {},
   "outputs": [],
   "source": []
  },
  {
   "cell_type": "markdown",
   "metadata": {},
   "source": [
    "# Desplegar el clasificador en una interfaz WEB\n",
    "\n",
    "### 1. Construir la aplicación WEB\n",
    "- #### 1.1 Crear la página web (clasificador.html)\n",
    "- #### 1.2 Crear punto de inicio de la aplicación web (inicio.py)\n",
    "### 2. Copiar el modelo construido\n",
    "### 3. Usar el modelo por medio de la aplicación web\n",
    "\n",
    "\n",
    "\n",
    "\n"
   ]
  },
  {
   "cell_type": "markdown",
   "metadata": {},
   "source": [
    "# Ejemplo de página HTML\n",
    "\n",
    "#### 1. Crear la carpeta \"templates\" en el directorio de la aplicación\n",
    "#### 2. Tener una plantilla HTML para tu clasificador. Crear el archivo clasificador.html en la carpeta templates\n"
   ]
  },
  {
   "cell_type": "markdown",
   "metadata": {},
   "source": [
    "# 1. Crear la página WEB\n",
    "### 1.1 Crear el archivo: clasificador.html"
   ]
  },
  {
   "cell_type": "code",
   "execution_count": null,
   "metadata": {},
   "outputs": [],
   "source": [
    "<!DOCTYPE html>\n",
    "<html lang=\"es\">\n",
    "<head>\n",
    "    <meta charset=\"UTF-8\">\n",
    "    <meta name=\"viewport\" content=\"width=device-width, initial-scale=1.0\">\n",
    "    <title>Clasificador de Texto</title>\n",
    "    <style>\n",
    "        body {\n",
    "            font-family: Arial, sans-serif;\n",
    "            display: flex;\n",
    "            justify-content: center;\n",
    "            align-items: center;\n",
    "            height: 100vh;\n",
    "            margin: 0;\n",
    "        }\n",
    "        .container {\n",
    "            text-align: center;\n",
    "        }\n",
    "        input[type=\"text\"] {\n",
    "            width: 500px;\n",
    "            height: 100px;\n",
    "            padding: 10px;\n",
    "            margin-bottom: 10px;\n",
    "            font-size: 16px;\n",
    "        }\n",
    "        button {\n",
    "            padding: 10px 20px;\n",
    "            font-size: 16px;\n",
    "            cursor: pointer;\n",
    "        }\n",
    "    </style>\n",
    "\n",
    "</head>\n",
    "<body>\n",
    "    <div class=\"container\">\n",
    "        <h1>Clasificador de Texto de Emociones</h1>\n",
    "        <form id=\"text-form\" method=\"post\" action=\"/clasificar\">\n",
    "            <input type=\"text\" id=\"texto\" name=\"texto\" placeholder=\"Escribe tu texto para predecir\" required>\n",
    "            <br>\n",
    "            <button type=\"submit\">Clasificar</button>\n",
    "        </form>\n",
    "\n",
    "        <br>\n",
    "        <br>\n",
    "        <br> \n",
    "        {% if pred %}\n",
    "        <h2 style=\"background-color:powderblue;\">Resultado de la Clasificación</h2>\n",
    "            <p style=\"background-color:plum;\"><strong>Texto:</strong> {{texto}} \n",
    "            {% if pred == \"joy\" %}\n",
    "                <p style=\"background-color:green;\"><strong>Predicción:</strong> {{pred}}\n",
    "            {% else %}        \n",
    "                <p style=\"background-color:tomato;\"><strong>Predicción:</strong> {{pred}} \n",
    "            {% endif %}                    \n",
    "        {% endif %}\n",
    "            \n",
    "    </div>\n",
    "</body>\n",
    "</html>"
   ]
  },
  {
   "cell_type": "markdown",
   "metadata": {},
   "source": [
    "### 1.2. En la carpeta de la aplicación Flask (05_aplicacion_web),  crear un archivo que contendrá la ruta del inicio de la página clasificador: inicio.py"
   ]
  },
  {
   "cell_type": "markdown",
   "metadata": {},
   "source": [
    "### Archivo: inicio.py"
   ]
  },
  {
   "cell_type": "code",
   "execution_count": null,
   "metadata": {},
   "outputs": [],
   "source": [
    "# Archivo: inicio.py\n",
    "\n",
    "from flask import Flask, render_template, request, redirect, url_for\n",
    "import pickle\n",
    "\n",
    "app = Flask(__name__)\n",
    "\n",
    "def cargar_clasificador(modelo='./modelos/modelo_svc.pkl'):\n",
    "    with open(modelo, 'rb') as f:\n",
    "        cl = pickle.load(f)\n",
    "    return cl\n",
    "\n",
    "\n",
    "_clasificador = cargar_clasificador()\n",
    "\n",
    "\n",
    "@app.route('/')\n",
    "def index():\n",
    "    return redirect(url_for('clasificar'))\n",
    "\n",
    "\n",
    "@app.route('/clasificar', methods=['POST', 'GET'])\n",
    "def clasificar():\n",
    "    if request.method == 'POST':\n",
    "        # Iniciar sesión exitosa, redirigir a otra página\n",
    "        texto = request.form['texto']\n",
    "        print(texto)\n",
    "        prediccion = _clasificador.predict([texto])\n",
    "        print(prediccion)\n",
    "        return render_template('clasificador.html', texto=texto, pred=prediccion[0])\n",
    "    else:\n",
    "        return render_template('clasificador.html')\n",
    "\n",
    "\n",
    "if __name__ == '__main__':\n",
    "    app.run(debug=True)\n"
   ]
  },
  {
   "cell_type": "markdown",
   "metadata": {},
   "source": [
    "# 2. Copiar el modelo del clasificador a la aplicación WEB"
   ]
  },
  {
   "cell_type": "markdown",
   "metadata": {},
   "source": [
    "### 2.1. Crear la carpeta \"modelos\" dentro del directorio de la aplicación WEB\n",
    "### 2.2. Copiar el modelo que se creó \"modelo_svc.pkl\" dentro de la carpeta modelos\n",
    "### 2.3. Copiar el módulo clasificadorTODO.py  dentro de la carpeta de la aplicación WEB\n"
   ]
  },
  {
   "cell_type": "code",
   "execution_count": null,
   "metadata": {},
   "outputs": [],
   "source": []
  },
  {
   "cell_type": "markdown",
   "metadata": {},
   "source": [
    "# 3. Ejecutar la aplicación WEB"
   ]
  },
  {
   "cell_type": "markdown",
   "metadata": {},
   "source": [
    "#### <span style=\"color:#0485CF\"> flask --app inicio.py --debug run -p 5000 </span>\n"
   ]
  },
  {
   "cell_type": "markdown",
   "metadata": {},
   "source": [
    "## Pantalla del clasificador\n",
    "\n",
    "<img src=\"figs/fig_clasificador_ejem1.png\" width=\"600\">"
   ]
  },
  {
   "cell_type": "code",
   "execution_count": null,
   "metadata": {},
   "outputs": [],
   "source": []
  },
  {
   "cell_type": "markdown",
   "metadata": {},
   "source": [
    "# PROYECTO"
   ]
  },
  {
   "cell_type": "markdown",
   "metadata": {},
   "source": [
    "# TODO: Crear modelos con pesado TF-IDF con los datos de agresividad\n",
    "## Archivo de datos: data_aggressiveness_es.json\n",
    "\n",
    "## Guías\n",
    "### 1. Cargar los datos en un DataFrame\n",
    "### 2. Inspeccionar los datos\n",
    "#### 2. 1. Identificar las clases y el número de ejemplos de entrenamiento\n",
    "- ####  El campo klass identifica la clase\n",
    "    - #####  0: no agresivo\n",
    "    - #####  1: no agresivo\n",
    "#### 3. Construir la matriz de vectores\n",
    "- ####  Preprocesamientos: minúsculas, normalizar texto, etc.\n",
    "- ####  Aplicar Stemming\n",
    "- ####  Crear un modelo con solo unigramas y evaluar su desempeño\n",
    "- ####  Crear otro  modelo con unigramas y bigramas y evaluar su desempeño\n",
    "- ####  Comparar los desempeños de los modelos \n",
    "\n",
    "#### 4. Dividir el conjunto de datos en datos de entrenamiento y prueba\n",
    "#### 5. Construir el clasificador con el entrenamiento\n",
    "#### 6. Evaluar el desempeño del clasificador\n",
    "#### 7. Ejecutar el modelo de predicción desde una aplicación WEB\n",
    "\n",
    "\n"
   ]
  }
 ],
 "metadata": {
  "kernelspec": {
   "display_name": "PostSQL",
   "language": "python",
   "name": "python3"
  },
  "language_info": {
   "codemirror_mode": {
    "name": "ipython",
    "version": 3
   },
   "file_extension": ".py",
   "mimetype": "text/x-python",
   "name": "python",
   "nbconvert_exporter": "python",
   "pygments_lexer": "ipython3",
   "version": "3.12.4"
  }
 },
 "nbformat": 4,
 "nbformat_minor": 2
}
